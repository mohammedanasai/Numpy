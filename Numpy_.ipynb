{
  "cells": [
    {
      "cell_type": "markdown",
      "metadata": {
        "id": "censth5g53vB"
      },
      "source": [
        "# NumPy is a core Python library for scientific computing and data analysis.\n",
        "\n",
        "\n",
        "*   Numpy provides fast, efficient n-dimensional arrays (ndarray) and a wide range of mathematical functions for operations like algebra, statistics, and transformations.\n",
        "*  NumPy arrays are highly optimized for performance, making them essential in machine learning, data science, and scientific research.\n",
        "\n",
        "\n"
      ]
    },
    {
      "cell_type": "markdown",
      "metadata": {
        "id": "hNeWX6JQ-OhK"
      },
      "source": [
        "### Creation of Numpy Arrays"
      ]
    },
    {
      "cell_type": "code",
      "execution_count": null,
      "metadata": {
        "id": "c6bCsyZp5dEn"
      },
      "outputs": [],
      "source": [
        "import numpy as np"
      ]
    },
    {
      "cell_type": "code",
      "execution_count": null,
      "metadata": {
        "id": "zV6EFUue6aEU"
      },
      "outputs": [],
      "source": [
        "# Creation of ND arrays using array method."
      ]
    },
    {
      "cell_type": "code",
      "execution_count": null,
      "metadata": {
        "colab": {
          "base_uri": "https://localhost:8080/"
        },
        "id": "oN1JC-pB6gMa",
        "outputId": "cea3b0de-a774-4a17-d266-6d58ae534195"
      },
      "outputs": [
        {
          "name": "stdout",
          "output_type": "stream",
          "text": [
            "[1 2 3 4] <class 'numpy.ndarray'>\n"
          ]
        }
      ],
      "source": [
        "# 1 Dimensional.\n",
        "arr1 = np.array([1,2,3,4])\n",
        "print(arr1,type(arr1))"
      ]
    },
    {
      "cell_type": "code",
      "execution_count": null,
      "metadata": {
        "colab": {
          "base_uri": "https://localhost:8080/"
        },
        "id": "L6oapmV76vGo",
        "outputId": "c21d16e6-dfb3-4053-8d3e-704f43d60c61"
      },
      "outputs": [
        {
          "name": "stdout",
          "output_type": "stream",
          "text": [
            "[[1 2 3]\n",
            " [4 5 6]]\n"
          ]
        }
      ],
      "source": [
        "# 2 Dimensional\n",
        "arr2 = np.array([[1,2,3], [4,5,6]])\n",
        "print(arr2)"
      ]
    },
    {
      "cell_type": "code",
      "execution_count": null,
      "metadata": {
        "colab": {
          "base_uri": "https://localhost:8080/"
        },
        "id": "a9qQgZIh6_Cg",
        "outputId": "ab9d2fb3-5cb1-4e9f-bb08-5f2dc9558b2d"
      },
      "outputs": [
        {
          "name": "stdout",
          "output_type": "stream",
          "text": [
            "[[[1 2]\n",
            "  [3 4]]\n",
            "\n",
            " [[5 6]\n",
            "  [7 8]]]\n"
          ]
        }
      ],
      "source": [
        "# 3 Dimensional\n",
        "arr3 = np.array([[[1,2],[3,4]],[[5,6],[7,8]]])\n",
        "print(arr3)"
      ]
    },
    {
      "cell_type": "code",
      "execution_count": null,
      "metadata": {
        "colab": {
          "base_uri": "https://localhost:8080/"
        },
        "id": "uxMStzr57RbR",
        "outputId": "519ef6b4-a90b-4ae3-b385-bd1ae07b392a"
      },
      "outputs": [
        {
          "name": "stdout",
          "output_type": "stream",
          "text": [
            "[[[[1 2]\n",
            "   [3 4]]\n",
            "\n",
            "  [[4 5]\n",
            "   [6 7]]]]\n"
          ]
        }
      ],
      "source": [
        "# 4 Dimensional\n",
        "arr4 = np.array([[[[1,2],[3,4]],[[4,5],[6,7]]]])\n",
        "print(arr4)"
      ]
    },
    {
      "cell_type": "code",
      "execution_count": null,
      "metadata": {
        "colab": {
          "base_uri": "https://localhost:8080/"
        },
        "id": "X5K90rem7uKi",
        "outputId": "08f357ad-3b20-48dc-9df6-4c827ebd1649"
      },
      "outputs": [
        {
          "name": "stdout",
          "output_type": "stream",
          "text": [
            "[[[[[1 2]\n",
            "    [3 4]]\n",
            "\n",
            "   [[5 6]\n",
            "    [7 8]]]]]\n"
          ]
        }
      ],
      "source": [
        "# 5 Dimensional\n",
        "\n",
        "arr5 = np.array([[[[[1,2],[3,4]],[[5,6],[7,8]]]]])\n",
        "print(arr5)"
      ]
    },
    {
      "cell_type": "code",
      "execution_count": null,
      "metadata": {
        "id": "5CMiLvcu8FCF"
      },
      "outputs": [],
      "source": [
        "# Creation of ND arrays using zeros and ones method."
      ]
    },
    {
      "cell_type": "code",
      "execution_count": null,
      "metadata": {
        "colab": {
          "base_uri": "https://localhost:8080/"
        },
        "id": "kh2Eg1eu8UZg",
        "outputId": "03e722a7-9cb5-4af5-a472-d89803ac9735"
      },
      "outputs": [
        {
          "name": "stdout",
          "output_type": "stream",
          "text": [
            "[[0. 0. 0.]\n",
            " [0. 0. 0.]]\n"
          ]
        }
      ],
      "source": [
        "arr_zeros = np.zeros((2,3))\n",
        "print(arr_zeros)"
      ]
    },
    {
      "cell_type": "code",
      "execution_count": null,
      "metadata": {
        "colab": {
          "base_uri": "https://localhost:8080/"
        },
        "id": "hSY4I7MD8aFi",
        "outputId": "fe03d7ad-fbab-4277-bc07-a3cb9982a224"
      },
      "outputs": [
        {
          "name": "stdout",
          "output_type": "stream",
          "text": [
            "[[1. 1. 1.]\n",
            " [1. 1. 1.]\n",
            " [1. 1. 1.]]\n"
          ]
        }
      ],
      "source": [
        "arr_ones = np.ones((3,3))\n",
        "print(arr_ones)"
      ]
    },
    {
      "cell_type": "code",
      "execution_count": null,
      "metadata": {
        "id": "pbJzRaGq8f1G"
      },
      "outputs": [],
      "source": [
        "# Creation of ND arrays using Identity"
      ]
    },
    {
      "cell_type": "code",
      "execution_count": null,
      "metadata": {
        "colab": {
          "base_uri": "https://localhost:8080/"
        },
        "id": "_2DLf08L8sH2",
        "outputId": "387dec3b-a1fe-4bcd-fe4c-421a06d301fa"
      },
      "outputs": [
        {
          "name": "stdout",
          "output_type": "stream",
          "text": [
            "[[1. 0. 0. 0. 0.]\n",
            " [0. 1. 0. 0. 0.]\n",
            " [0. 0. 1. 0. 0.]\n",
            " [0. 0. 0. 1. 0.]\n",
            " [0. 0. 0. 0. 1.]]\n"
          ]
        }
      ],
      "source": [
        "arr_identity = np.identity((5))\n",
        "print(arr_identity)"
      ]
    },
    {
      "cell_type": "code",
      "execution_count": null,
      "metadata": {
        "id": "_G4kca_l9Xvu"
      },
      "outputs": [],
      "source": [
        "# Creation of ND arrays using arange method"
      ]
    },
    {
      "cell_type": "code",
      "execution_count": null,
      "metadata": {
        "colab": {
          "base_uri": "https://localhost:8080/"
        },
        "id": "9p4o8jkf8xPp",
        "outputId": "d10e6549-b412-442d-b7bd-7d61e94a9dce"
      },
      "outputs": [
        {
          "name": "stdout",
          "output_type": "stream",
          "text": [
            "[0 1 2 3 4 5 6 7 8 9]\n"
          ]
        }
      ],
      "source": [
        "arr_arange = np.arange(10)\n",
        "print(arr_arange)"
      ]
    },
    {
      "cell_type": "code",
      "execution_count": null,
      "metadata": {
        "colab": {
          "base_uri": "https://localhost:8080/"
        },
        "id": "SAVYnHWJ9QqU",
        "outputId": "ac6f5cad-87db-40ec-efc1-bbe4e2695a65"
      },
      "outputs": [
        {
          "name": "stdout",
          "output_type": "stream",
          "text": [
            "[ 1  2  3  4  5  6  7  8  9 10 11 12 13]\n"
          ]
        }
      ],
      "source": [
        "arr_aranges = np.arange(1,14)\n",
        "print(arr_aranges)"
      ]
    },
    {
      "cell_type": "code",
      "execution_count": null,
      "metadata": {
        "id": "I4pIn_kx9fDl"
      },
      "outputs": [],
      "source": [
        "# Creation of ND arrays using lin space method"
      ]
    },
    {
      "cell_type": "code",
      "execution_count": null,
      "metadata": {
        "colab": {
          "base_uri": "https://localhost:8080/"
        },
        "id": "HowQAHFR9kaZ",
        "outputId": "5f0c5933-b52f-4940-8213-3a7eba88bb70"
      },
      "outputs": [
        {
          "name": "stdout",
          "output_type": "stream",
          "text": [
            "[10.         12.22222222 14.44444444 16.66666667 18.88888889 21.11111111\n",
            " 23.33333333 25.55555556 27.77777778 30.        ]\n"
          ]
        }
      ],
      "source": [
        "arr_space = np.linspace(10,30,10)\n",
        "print(arr_space)"
      ]
    },
    {
      "cell_type": "code",
      "execution_count": null,
      "metadata": {
        "colab": {
          "base_uri": "https://localhost:8080/"
        },
        "id": "DQ3yC1aA9pVG",
        "outputId": "e3697b7b-1181-4bda-f89e-5c70f0b099a2"
      },
      "outputs": [
        {
          "name": "stdout",
          "output_type": "stream",
          "text": [
            "[10.     12.3125 14.625  16.9375 19.25   21.5625 23.875  26.1875 28.5\n",
            " 30.8125 33.125  35.4375 37.75   40.0625 42.375  44.6875 47.    ]\n"
          ]
        }
      ],
      "source": [
        "arr_spaces = np.linspace(10,47,17)\n",
        "print(arr_spaces)"
      ]
    },
    {
      "cell_type": "code",
      "execution_count": null,
      "metadata": {
        "id": "6dfnrdn69ug6"
      },
      "outputs": [],
      "source": [
        "# Creation of ND arrays using lin space method"
      ]
    },
    {
      "cell_type": "code",
      "execution_count": null,
      "metadata": {
        "colab": {
          "base_uri": "https://localhost:8080/"
        },
        "id": "ahgwwVGv-q-a",
        "outputId": "2c710c0e-758f-4658-ac80-50c482cb8412"
      },
      "outputs": [
        {
          "name": "stdout",
          "output_type": "stream",
          "text": [
            "[[[1 2]\n",
            "  [3 4]]\n",
            "\n",
            " [[5 6]\n",
            "  [7 8]]]\n"
          ]
        }
      ],
      "source": [
        "arr_copy = arr3.copy()\n",
        "print(arr_copy)"
      ]
    },
    {
      "cell_type": "markdown",
      "metadata": {
        "id": "Kr4gSkdq_ZRG"
      },
      "source": [
        "### Numpy Attributes"
      ]
    },
    {
      "cell_type": "code",
      "execution_count": null,
      "metadata": {
        "colab": {
          "base_uri": "https://localhost:8080/"
        },
        "id": "g3ncgk9k_e_l",
        "outputId": "d1e37c1e-8990-49f6-cb85-b697d534fca4"
      },
      "outputs": [
        {
          "name": "stdout",
          "output_type": "stream",
          "text": [
            "1\n",
            "2\n",
            "3\n",
            "2\n",
            "1\n"
          ]
        }
      ],
      "source": [
        "# Ndim - It return the number of dimension of an ndarray.\n",
        "\n",
        "print(arr1.ndim)\n",
        "print(arr2.ndim)\n",
        "print(arr3.ndim)\n",
        "print(arr_identity.ndim)\n",
        "print(arr_spaces.ndim)"
      ]
    },
    {
      "cell_type": "code",
      "execution_count": null,
      "metadata": {
        "colab": {
          "base_uri": "https://localhost:8080/"
        },
        "id": "w5qUJfUU_3on",
        "outputId": "21b54636-d833-4fac-d428-fa4f98c3f2ff"
      },
      "outputs": [
        {
          "name": "stdout",
          "output_type": "stream",
          "text": [
            "(4,)\n",
            "(2, 3)\n",
            "(2, 2, 2)\n",
            "(1, 2, 2, 2)\n",
            "(1, 1, 2, 2, 2)\n",
            "(5, 5)\n"
          ]
        }
      ],
      "source": [
        "# Shape - Determines the number of rows and columns that an ndarray is equipped.\n",
        "\n",
        "print(arr1.shape)\n",
        "print(arr2.shape)\n",
        "print(arr3.shape)\n",
        "print(arr4.shape)\n",
        "print(arr5.shape)\n",
        "print(arr_identity.shape)"
      ]
    },
    {
      "cell_type": "code",
      "execution_count": null,
      "metadata": {
        "colab": {
          "base_uri": "https://localhost:8080/"
        },
        "id": "rXCrGWTyAVB1",
        "outputId": "a620875a-f89d-41b9-e7cc-8e4606964f21"
      },
      "outputs": [
        {
          "name": "stdout",
          "output_type": "stream",
          "text": [
            "4\n",
            "6\n",
            "8\n",
            "10\n"
          ]
        }
      ],
      "source": [
        "# Size - Defines the number of item present in a ndarray.\n",
        "\n",
        "print(arr1.size)\n",
        "print(arr2.size)\n",
        "print(arr3.size)\n",
        "print(arr_space.size)"
      ]
    },
    {
      "cell_type": "code",
      "execution_count": null,
      "metadata": {
        "colab": {
          "base_uri": "https://localhost:8080/"
        },
        "id": "zCl-xmMFBRY8",
        "outputId": "630acf8c-21e7-436c-e20e-8e6968653e05"
      },
      "outputs": [
        {
          "name": "stdout",
          "output_type": "stream",
          "text": [
            "8\n",
            "8\n",
            "8\n",
            "8\n"
          ]
        }
      ],
      "source": [
        "# Itemsize - Returns the number bytes of each element of an nd array occupies in memory.\n",
        "\n",
        "print(arr1.itemsize)\n",
        "print(arr3.itemsize)\n",
        "print(arr_identity.itemsize)\n",
        "print(arr_spaces.itemsize)"
      ]
    },
    {
      "cell_type": "code",
      "execution_count": null,
      "metadata": {
        "colab": {
          "base_uri": "https://localhost:8080/"
        },
        "id": "V_iWZhgSCGXD",
        "outputId": "2f14652f-3a86-431c-f32f-1f70d7f3ea13"
      },
      "outputs": [
        {
          "name": "stdout",
          "output_type": "stream",
          "text": [
            "int64\n",
            "int64\n",
            "float64\n",
            "float64\n"
          ]
        }
      ],
      "source": [
        "# Dtype - determines the data type of an element of an ndarray.\n",
        "\n",
        "print(arr1.dtype)\n",
        "print(arr3.dtype)\n",
        "print(arr_identity.dtype)\n",
        "print(arr_spaces.dtype)"
      ]
    },
    {
      "cell_type": "code",
      "execution_count": null,
      "metadata": {
        "colab": {
          "base_uri": "https://localhost:8080/"
        },
        "id": "MstSHJp3Cyuw",
        "outputId": "282b3f96-2959-43fe-8e5c-df7992fcbc2d"
      },
      "outputs": [
        {
          "name": "stdout",
          "output_type": "stream",
          "text": [
            "int64\n",
            "int32\n",
            "float64\n"
          ]
        }
      ],
      "source": [
        "# Astype - A method which changes a data type to another.\n",
        "\n",
        "print(arr4.dtype)\n",
        "arr4_new = arr4.astype('float')\n",
        "arr_identity_new = arr_identity.astype('int32')\n",
        "print(arr_identity_new.dtype)\n",
        "print(arr4_new.dtype)"
      ]
    },
    {
      "cell_type": "code",
      "execution_count": null,
      "metadata": {
        "id": "e_lOq25MDF2L"
      },
      "outputs": [],
      "source": []
    }
  ],
  "metadata": {
    "colab": {
      "provenance": []
    },
    "kernelspec": {
      "display_name": "Python 3",
      "name": "python3"
    },
    "language_info": {
      "name": "python"
    }
  },
  "nbformat": 4,
  "nbformat_minor": 0
}
